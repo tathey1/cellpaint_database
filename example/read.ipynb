{
 "cells": [
  {
   "cell_type": "markdown",
   "metadata": {},
   "source": [
    "# Instructions\n",
    "- Put the sqlite file into the /data folder of this repo"
   ]
  },
  {
   "cell_type": "code",
   "execution_count": null,
   "metadata": {},
   "outputs": [],
   "source": [
    "from cellpaint_database.database_loader import DatabaseLoader\n",
    "import matplotlib.pyplot as plt\n",
    "\n",
    "db_path = \"/Users/thomasathey/Documents/shavit-lab/fraenkel/data/aneesh/als_cellpainting_relative.sqlite\" # path to database\n",
    "data_root = \"/Users/thomasathey/Documents/shavit-lab/fraenkel/data/aneesh\" # path to the data directory"
   ]
  },
  {
   "cell_type": "code",
   "execution_count": null,
   "metadata": {},
   "outputs": [],
   "source": [
    "dbl = DatabaseLoader(db_path, data_root)"
   ]
  },
  {
   "cell_type": "code",
   "execution_count": null,
   "metadata": {},
   "outputs": [],
   "source": [
    "plate = 2\n",
    "well = ('B', 2, 1) # ('row', column, field)\n",
    "well2 = 1 # alternative way to specify well - site number\n",
    "channel = 1\n",
    "\n",
    "line = dbl.get_line(plate, well, channel)\n",
    "treatment = dbl.get_treatment(plate, well, channel)\n",
    "img = dbl.get_image(plate, well2, channel)"
   ]
  },
  {
   "cell_type": "code",
   "execution_count": null,
   "metadata": {},
   "outputs": [],
   "source": [
    "plt.imshow(img)\n",
    "plt.title(f\"{line} x {treatment}\")"
   ]
  },
  {
   "cell_type": "code",
   "execution_count": null,
   "metadata": {},
   "outputs": [],
   "source": []
  }
 ],
 "metadata": {
  "kernelspec": {
   "display_name": ".venv",
   "language": "python",
   "name": "python3"
  },
  "language_info": {
   "codemirror_mode": {
    "name": "ipython",
    "version": 3
   },
   "file_extension": ".py",
   "mimetype": "text/x-python",
   "name": "python",
   "nbconvert_exporter": "python",
   "pygments_lexer": "ipython3",
   "version": "3.9.5"
  }
 },
 "nbformat": 4,
 "nbformat_minor": 2
}
