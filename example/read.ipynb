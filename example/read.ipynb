{
 "cells": [
  {
   "cell_type": "code",
   "execution_count": null,
   "metadata": {},
   "outputs": [],
   "source": [
    "from cellpaint_database.database_loader import DatabaseLoader\n",
    "import matplotlib.pyplot as plt\n",
    "import tifffile\n",
    "import subprocess\n",
    "import os\n",
    "import time"
   ]
  },
  {
   "cell_type": "markdown",
   "metadata": {},
   "source": [
    "# Instructions\n",
    "- Put the sqlite file into the /data folder of this repo"
   ]
  },
  {
   "cell_type": "code",
   "execution_count": null,
   "metadata": {},
   "outputs": [],
   "source": [
    "db_path = \"/Users/thomasathey/Documents/shavit-lab/fraenkel/data/aneesh/aneesh_diMNs.sqlite\"  # path to sqlite file\n",
    "data_root = \"/Users/thomasathey/Documents/shavit-lab/fraenkel/data/aneesh\"  # path to the directory from which the relative paths in the database start. In this case, the fodler that holds /images/"
   ]
  },
  {
   "cell_type": "code",
   "execution_count": null,
   "metadata": {},
   "outputs": [],
   "source": [
    "dbl = DatabaseLoader(db_path, data_root)"
   ]
  },
  {
   "cell_type": "markdown",
   "metadata": {},
   "source": [
    "# Identify Image"
   ]
  },
  {
   "cell_type": "code",
   "execution_count": null,
   "metadata": {},
   "outputs": [],
   "source": [
    "plate = 2\n",
    "well = (\"B\", 2, 1)  # ('row', column, field)\n",
    "well2 = 1  # alternative way to specify well - site number\n",
    "channel = 1"
   ]
  },
  {
   "cell_type": "markdown",
   "metadata": {},
   "source": [
    "# Retrieve Image"
   ]
  },
  {
   "cell_type": "code",
   "execution_count": null,
   "metadata": {},
   "outputs": [],
   "source": [
    "line = dbl.get_line(plate, well, channel)\n",
    "treatment = dbl.get_treatment(plate, well, channel)\n",
    "img = dbl.get_image(plate, well2, channel)"
   ]
  },
  {
   "cell_type": "code",
   "execution_count": null,
   "metadata": {},
   "outputs": [],
   "source": [
    "plt.imshow(img)\n",
    "plt.title(f\"{line} x {treatment}\")"
   ]
  },
  {
   "cell_type": "markdown",
   "metadata": {},
   "source": [
    "## Retrieve Image Crop"
   ]
  },
  {
   "cell_type": "code",
   "execution_count": null,
   "metadata": {},
   "outputs": [],
   "source": [
    "loc = (1000, 170)\n",
    "\n",
    "line = dbl.get_line(plate, well, channel)\n",
    "treatment = dbl.get_treatment(plate, well, channel)\n",
    "img = dbl.get_image_loc(plate, well2, channel, loc)"
   ]
  },
  {
   "cell_type": "code",
   "execution_count": null,
   "metadata": {},
   "outputs": [],
   "source": [
    "plt.imshow(img)\n",
    "plt.title(f\"{line} x {treatment} @ {loc}\")"
   ]
  },
  {
   "cell_type": "code",
   "execution_count": null,
   "metadata": {},
   "outputs": [],
   "source": [
    "rad = 30\n",
    "\n",
    "img = dbl.get_image_loc(plate, well2, channel, loc, rad=rad)"
   ]
  },
  {
   "cell_type": "code",
   "execution_count": null,
   "metadata": {},
   "outputs": [],
   "source": [
    "plt.imshow(img)\n",
    "plt.title(f\"{line} x {treatment} @ {loc} +/- {rad}\")"
   ]
  },
  {
   "cell_type": "markdown",
   "metadata": {},
   "source": [
    "# Open in Fiji"
   ]
  },
  {
   "cell_type": "code",
   "execution_count": null,
   "metadata": {},
   "outputs": [],
   "source": [
    "fiji_path = \"/Applications/Fiji.app/Contents/MacOS/ImageJ-macosx\"  # macOS\n",
    "# fiji_path = \"ImageJ-win64.exe\"  # Windows (assuming added to PATH)\n",
    "# fiji_path = \"/path/to/Fiji.app/ImageJ-linux64\"  # Linux"
   ]
  },
  {
   "cell_type": "code",
   "execution_count": null,
   "metadata": {},
   "outputs": [],
   "source": [
    "# enter lists of plates, wells, and channels\n",
    "plates = [2, 2]\n",
    "wells = [(\"B\", 2, 1), (\"B\", 2, 1)]\n",
    "channels = [1, 2]\n",
    "\n",
    "macro = \"\"\n",
    "temp_files = []\n",
    "\n",
    "for i, (plate, well, channel) in enumerate(zip(plates, wells, channels)):\n",
    "    line = dbl.get_line(plate, well, channel)\n",
    "    treatment = dbl.get_treatment(plate, well, channel)\n",
    "    img = dbl.get_image(plate, well2, channel)\n",
    "\n",
    "    # Save as a temporary TIFF file\n",
    "    temp_file = os.path.join(os.getcwd(), f\"fiji_image_{i}.tif\")\n",
    "    tifffile.imwrite(temp_file, img)\n",
    "\n",
    "    title = f\"({plate,well,channel}): {line} x {treatment}\"\n",
    "    macro += f'open(\"{temp_file}\"); rename(\"{title}\");\\n'\n",
    "    temp_files.append(temp_file)\n",
    "\n",
    "macro_file = \"rename_macro.ijm\"\n",
    "with open(macro_file, \"w\") as f:\n",
    "    f.write(macro)\n",
    "\n",
    "# Launch Fiji with the macro\n",
    "subprocess.Popen([fiji_path, \"-macro\", macro_file])\n",
    "\n",
    "# Optional: Clean up the temporary file after viewing\n",
    "time.sleep(10)\n",
    "for temp_file in temp_files:\n",
    "    os.remove(temp_file)\n",
    "os.remove(macro_file)"
   ]
  },
  {
   "cell_type": "code",
   "execution_count": null,
   "metadata": {},
   "outputs": [],
   "source": []
  }
 ],
 "metadata": {
  "kernelspec": {
   "display_name": ".venv",
   "language": "python",
   "name": "python3"
  },
  "language_info": {
   "codemirror_mode": {
    "name": "ipython",
    "version": 3
   },
   "file_extension": ".py",
   "mimetype": "text/x-python",
   "name": "python",
   "nbconvert_exporter": "python",
   "pygments_lexer": "ipython3",
   "version": "3.9.5"
  }
 },
 "nbformat": 4,
 "nbformat_minor": 2
}
